{
  "nbformat": 4,
  "nbformat_minor": 0,
  "metadata": {
    "colab": {
      "name": "eeData_to_Drive",
      "provenance": [],
      "collapsed_sections": [],
      "authorship_tag": "ABX9TyMw+FJ70ic9x0+c1mB8Z9yh",
      "include_colab_link": true
    },
    "kernelspec": {
      "name": "python3",
      "display_name": "Python 3"
    }
  },
  "cells": [
    {
      "cell_type": "markdown",
      "metadata": {
        "id": "view-in-github",
        "colab_type": "text"
      },
      "source": [
        "<a href=\"https://colab.research.google.com/github/xinluo2018/Earth-Engine-with-Deep-Learning/blob/master/eeData_to_Drive.ipynb\" target=\"_parent\"><img src=\"https://colab.research.google.com/assets/colab-badge.svg\" alt=\"Open In Colab\"/></a>"
      ]
    },
    {
      "cell_type": "markdown",
      "metadata": {
        "id": "holioItfM7BP",
        "colab_type": "text"
      },
      "source": [
        "## The data in Earth engine can be exported to Google Drive as the TFRecord and GeoTiff format data"
      ]
    },
    {
      "cell_type": "code",
      "metadata": {
        "id": "HlOeq27RF86G",
        "colab_type": "code",
        "colab": {}
      },
      "source": [
        "## Mount on google drive\n",
        "from google.colab import drive\n",
        "drive.mount('/content/drive/')\n",
        "## Authenticate to Earth Engine\n",
        "import ee\n",
        "ee.Authenticate()\n",
        "ee.Initialize()"
      ],
      "execution_count": null,
      "outputs": []
    },
    {
      "cell_type": "code",
      "metadata": {
        "id": "GRdYQnwPB6aJ",
        "colab_type": "code",
        "colab": {}
      },
      "source": [
        "import folium\n"
      ],
      "execution_count": 67,
      "outputs": []
    },
    {
      "cell_type": "markdown",
      "metadata": {
        "id": "TsyijNazD78d",
        "colab_type": "text"
      },
      "source": [
        "###Define variables"
      ]
    },
    {
      "cell_type": "code",
      "metadata": {
        "id": "UxTkebYjDs6k",
        "colab_type": "code",
        "colab": {}
      },
      "source": [
        "# Your Earth Engine username.\n",
        "User_Name = 'xin_luo'\n",
        "\n",
        "# Select image data and the corresponding spectral bands.\n",
        "L8SR = ee.ImageCollection('LANDSAT/LC08/C01/T1_SR')\n",
        "BANDS = ['B2', 'B3', 'B4', 'B5', 'B6', 'B7']\n",
        "Export_Region = ee.Geometry.Rectangle([-122.7, 37.3, -121.8, 38.00])\n",
        "\n",
        "# File names of the data colected from Earth Engine.\n",
        "Image_Folder = 'EE_Image'   # !can't write into the second-level directory\n",
        "Image_File_Prefix = 'Landsat_img'\n"
      ],
      "execution_count": 71,
      "outputs": []
    },
    {
      "cell_type": "markdown",
      "metadata": {
        "id": "wLhpb4nukEvY",
        "colab_type": "text"
      },
      "source": [
        "### Selected the image from earth engine and visulization"
      ]
    },
    {
      "cell_type": "code",
      "metadata": {
        "id": "P75lGKPvj3j0",
        "colab_type": "code",
        "colab": {}
      },
      "source": [
        "# Cloud masking function.\n",
        "def maskL8sr(image):\n",
        "  cloudShadowBitMask = ee.Number(2).pow(3).int()\n",
        "  cloudsBitMask = ee.Number(2).pow(5).int()\n",
        "  qa = image.select('pixel_qa')\n",
        "  mask = qa.bitwiseAnd(cloudShadowBitMask).eq(0).And(\n",
        "    qa.bitwiseAnd(cloudsBitMask).eq(0))\n",
        "  return image.updateMask(mask).select(BANDS).divide(10000)\n",
        "\n",
        "# The image input data is a 2018 cloud-masked median composite.\n",
        "image = L8SR.filterDate('2018-01-01', '2018-12-31').map(maskL8sr).filterBounds(Export_Region).median()\n",
        "\n",
        "# Use folium to visualize the imagery.\n",
        "mapid = image.getMapId({'bands': ['B4', 'B3', 'B2'], 'min': 0, 'max': 0.3})\n",
        "map = folium.Map(location=[38., -122.5])\n",
        "\n",
        "folium.TileLayer(\n",
        "    tiles=mapid['tile_fetcher'].url_format,\n",
        "    attr='Map Data &copy; <a href=\"https://earthengine.google.com/\">Google Earth Engine</a>',\n",
        "    overlay=True,\n",
        "    name='median composite',\n",
        "  ).add_to(map)\n",
        "map.add_child(folium.LayerControl())\n",
        "map\n"
      ],
      "execution_count": null,
      "outputs": []
    },
    {
      "cell_type": "code",
      "metadata": {
        "id": "wrzf5AtxqSzV",
        "colab_type": "code",
        "colab": {}
      },
      "source": [
        "# Specify patch and file dimensions.\n",
        "image_export_options = {\n",
        "  'patchDimensions': [256, 256],\n",
        "  'maxFileSize': 104857600,   # Memory for per TFRecord file\n",
        "  'compressed': True\n",
        "}\n",
        "\n",
        "# Setup the task.\n",
        "image_task = ee.batch.Export.image.toDrive(\n",
        "  image=image,\n",
        "  description = 'Image Export',\n",
        "  fileNamePrefix = Image_File_Prefix,\n",
        "  folder = Image_Folder,\n",
        "  scale=30,\n",
        "#   fileFormat='TFRecord',\n",
        "  fileFormat = 'GeoTIFF',\n",
        "  region=Export_Region.toGeoJSON()['coordinates'],\n",
        "#   formatOptions=image_export_options,  # Corresponding to the TFRecord export\n",
        ")\n",
        "\n",
        "# Start the task.\n",
        "image_task.start()\n",
        "\n",
        "import time\n",
        "while image_task.active():\n",
        "  print('Polling for task (id: {}).'.format(image_task.id))\n",
        "  time.sleep(30)\n",
        "print('Done with image export.')"
      ],
      "execution_count": null,
      "outputs": []
    }
  ]
}