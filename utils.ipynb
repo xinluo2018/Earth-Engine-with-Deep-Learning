<<<<<<< HEAD
{"nbformat":4,"nbformat_minor":0,"metadata":{"colab":{"name":"utils.ipynb","provenance":[],"collapsed_sections":[],"authorship_tag":"ABX9TyMcaglInMOYsbxtqKALdTWF"},"kernelspec":{"name":"python3","display_name":"Python 3"}},"cells":[{"cell_type":"code","metadata":{"id":"FW_SJh56ZxDy","colab_type":"code","colab":{"base_uri":"https://localhost:8080/","height":54},"executionInfo":{"status":"ok","timestamp":1597714002984,"user_tz":-480,"elapsed":898,"user":{"displayName":"Xin Luo","photoUrl":"","userId":"06301970496892076570"}},"outputId":"68bd2083-6500-4b81-86db-b921e66279f1"},"source":["# mount on google drive\n","from google.colab import drive\n","drive.mount('/content/drive/')\n","# go to your work patch\n","import os\n","os.chdir(\"/content/drive/My Drive/Earth-Engine-with-Deep-Learning\")\n","#!ls\n","# !nvidia-smi"],"execution_count":12,"outputs":[{"output_type":"stream","text":["Drive already mounted at /content/drive/; to attempt to forcibly remount, call drive.mount(\"/content/drive/\", force_remount=True).\n"],"name":"stdout"}]},{"cell_type":"code","metadata":{"id":"pepzZNvHgiNc","colab_type":"code","colab":{},"executionInfo":{"status":"ok","timestamp":1597714002986,"user_tz":-480,"elapsed":873,"user":{"displayName":"Xin Luo","photoUrl":"","userId":"06301970496892076570"}}},"source":["from osgeo import gdal\n","import numpy as np\n","import matplotlib.pyplot as plt\n"],"execution_count":13,"outputs":[]},{"cell_type":"code","metadata":{"id":"_-n5AswdaJj0","colab_type":"code","colab":{},"executionInfo":{"status":"ok","timestamp":1597714002987,"user_tz":-480,"elapsed":853,"user":{"displayName":"Xin Luo","photoUrl":"","userId":"06301970496892076570"}}},"source":["### tiff image reading\n","def readTiff(path_in):\n","    '''\n","    return: numpy array, dimentions order: (row, col, band)\n","    '''\n","    RS_Data=gdal.Open(path_in)\n","    im_col = RS_Data.RasterXSize  # \n","    im_row = RS_Data.RasterYSize  # \n","    im_bands =RS_Data.RasterCount  # \n","    im_geotrans = RS_Data.GetGeoTransform()  # \n","    im_proj = RS_Data.GetProjection()  # \n","    RS_Data = RS_Data.ReadAsArray(0, 0, im_col, im_row)  # \n","    if im_bands > 1:\n","        RS_Data = np.transpose(RS_Data, (1, 2, 0)).astype(np.float)  # \n","        return RS_Data, im_geotrans, im_proj, im_row, im_col, im_bands\n","    else:\n","        return RS_Data,im_geotrans,im_proj,im_row,im_col,im_bands"],"execution_count":14,"outputs":[]},{"cell_type":"code","metadata":{"id":"RCbWLgkYIV7m","colab_type":"code","colab":{},"executionInfo":{"status":"ok","timestamp":1597714002988,"user_tz":-480,"elapsed":841,"user":{"displayName":"Xin Luo","photoUrl":"","userId":"06301970496892076570"}}},"source":["def imgShow(img, num_bands, clip_percent):\n","    '''\n","    Arguments: \n","        img: (row, col, band)\n","        num_bands: a list/tuple, [red_band,green_band,blue_band]\n","        clip_percent: for linear strech, value within the range of 0-100. \n","    '''\n","    img_color = img[:,:,[num_bands[0],num_bands[1],num_bands[2]]]\n","    where_are_NaNs = np.isnan(img_color)\n","    img_color[where_are_NaNs] = 0\n","    img_color_nor = (img_color-np.min(img_color))/(np.max(img_color)-np.min(img_color))\n","    img_color_nor_hist = np.percentile(img_color_nor, [clip_percent, 100-clip_percent])\n","    img_color_nor_clip = (img_color_nor-img_color_nor_hist[0])/(img_color_nor_hist[1]-img_color_nor_hist[0])\n","    \n","    plt.imshow(img_color_nor_clip)\n"],"execution_count":15,"outputs":[]},{"cell_type":"code","metadata":{"id":"0QeGpxA5aBsF","colab_type":"code","colab":{"base_uri":"https://localhost:8080/","height":52},"executionInfo":{"status":"ok","timestamp":1597714005182,"user_tz":-480,"elapsed":3014,"user":{"displayName":"Xin Luo","photoUrl":"","userId":"06301970496892076570"}},"outputId":"fe481400-043b-41f0-c2f1-174ea2c7fa49"},"source":["## convert model.ipynb to model.py\n","try:\n","    !jupyter nbconvert --to python utils.ipynb\n","except:\n","    pass"],"execution_count":16,"outputs":[{"output_type":"stream","text":["[NbConvertApp] Converting notebook utils.ipynb to python\n","[NbConvertApp] Writing 1880 bytes to utils.py\n"],"name":"stdout"}]}]}
=======
{
  "nbformat": 4,
  "nbformat_minor": 0,
  "metadata": {
    "colab": {
      "name": "utils.ipynb",
      "provenance": [],
      "collapsed_sections": [],
      "authorship_tag": "ABX9TyMcaglInMOYsbxtqKALdTWF",
      "include_colab_link": true
    },
    "kernelspec": {
      "name": "python3",
      "display_name": "Python 3"
    }
  },
  "cells": [
    {
      "cell_type": "markdown",
      "metadata": {
        "id": "view-in-github",
        "colab_type": "text"
      },
      "source": [
        "<a href=\"https://colab.research.google.com/github/xinluo2018/Earth-Engine-with-Deep-Learning/blob/master/utils.ipynb\" target=\"_parent\"><img src=\"https://colab.research.google.com/assets/colab-badge.svg\" alt=\"Open In Colab\"/></a>"
      ]
    },
    {
      "cell_type": "code",
      "metadata": {
        "id": "FW_SJh56ZxDy",
        "colab_type": "code",
        "colab": {
          "base_uri": "https://localhost:8080/",
          "height": 54
        },
        "outputId": "68bd2083-6500-4b81-86db-b921e66279f1"
      },
      "source": [
        "# mount on google drive\n",
        "from google.colab import drive\n",
        "drive.mount('/content/drive/')\n",
        "# go to your work patch\n",
        "import os\n",
        "os.chdir(\"/content/drive/My Drive/Earth-Engine-with-Deep-Learning\")\n",
        "#!ls\n",
        "# !nvidia-smi"
      ],
      "execution_count": 12,
      "outputs": [
        {
          "output_type": "stream",
          "text": [
            "Drive already mounted at /content/drive/; to attempt to forcibly remount, call drive.mount(\"/content/drive/\", force_remount=True).\n"
          ],
          "name": "stdout"
        }
      ]
    },
    {
      "cell_type": "code",
      "metadata": {
        "id": "pepzZNvHgiNc",
        "colab_type": "code",
        "colab": {}
      },
      "source": [
        "from osgeo import gdal\n",
        "import numpy as np\n",
        "import matplotlib.pyplot as plt\n"
      ],
      "execution_count": 13,
      "outputs": []
    },
    {
      "cell_type": "code",
      "metadata": {
        "id": "_-n5AswdaJj0",
        "colab_type": "code",
        "colab": {}
      },
      "source": [
        "### tiff image reading\n",
        "def readTiff(path_in):\n",
        "    '''\n",
        "    return: numpy array, dimentions order: (row, col, band)\n",
        "    '''\n",
        "    RS_Data=gdal.Open(path_in)\n",
        "    im_col = RS_Data.RasterXSize  # \n",
        "    im_row = RS_Data.RasterYSize  # \n",
        "    im_bands =RS_Data.RasterCount  # \n",
        "    im_geotrans = RS_Data.GetGeoTransform()  # \n",
        "    im_proj = RS_Data.GetProjection()  # \n",
        "    RS_Data = RS_Data.ReadAsArray(0, 0, im_col, im_row)  # \n",
        "    if im_bands > 1:\n",
        "        RS_Data = np.transpose(RS_Data, (1, 2, 0)).astype(np.float)  # \n",
        "        return RS_Data, im_geotrans, im_proj, im_row, im_col, im_bands\n",
        "    else:\n",
        "        return RS_Data,im_geotrans,im_proj,im_row,im_col,im_bands"
      ],
      "execution_count": 14,
      "outputs": []
    },
    {
      "cell_type": "code",
      "metadata": {
        "id": "RCbWLgkYIV7m",
        "colab_type": "code",
        "colab": {}
      },
      "source": [
        "def imgShow(img, num_bands, clip_percent):\n",
        "    '''\n",
        "    Arguments: \n",
        "        img: (row, col, band)\n",
        "        num_bands: a list/tuple, [red_band,green_band,blue_band]\n",
        "        clip_percent: for linear strech, value within the range of 0-100. \n",
        "    '''\n",
        "    img_color = img[:,:,[num_bands[0],num_bands[1],num_bands[2]]]\n",
        "    where_are_NaNs = np.isnan(img_color)\n",
        "    img_color[where_are_NaNs] = 0\n",
        "    img_color_nor = (img_color-np.min(img_color))/(np.max(img_color)-np.min(img_color))\n",
        "    img_color_nor_hist = np.percentile(img_color_nor, [clip_percent, 100-clip_percent])\n",
        "    img_color_nor_clip = (img_color_nor-img_color_nor_hist[0])/(img_color_nor_hist[1]-img_color_nor_hist[0])\n",
        "    \n",
        "    plt.imshow(img_color_nor_clip)\n"
      ],
      "execution_count": 15,
      "outputs": []
    },
    {
      "cell_type": "code",
      "metadata": {
        "id": "0QeGpxA5aBsF",
        "colab_type": "code",
        "colab": {
          "base_uri": "https://localhost:8080/",
          "height": 52
        },
        "outputId": "fe481400-043b-41f0-c2f1-174ea2c7fa49"
      },
      "source": [
        "## convert model.ipynb to model.py\n",
        "try:\n",
        "    !jupyter nbconvert --to python utils.ipynb\n",
        "except:\n",
        "    pass"
      ],
      "execution_count": 16,
      "outputs": [
        {
          "output_type": "stream",
          "text": [
            "[NbConvertApp] Converting notebook utils.ipynb to python\n",
            "[NbConvertApp] Writing 1880 bytes to utils.py\n"
          ],
          "name": "stdout"
        }
      ]
    }
  ]
}
>>>>>>> origin/master
